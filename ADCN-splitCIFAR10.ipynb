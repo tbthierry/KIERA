{
 "cells": [
  {
   "cell_type": "code",
   "execution_count": 2,
   "source": [
    "from utilsADCN import cifarLoader, plotPerformance\n",
    "from ADCNbasic import ADCN\n",
    "from ADCNmainloop import ADCNmainMT\n",
    "from model import ConvAeCIFAR\n",
    "import numpy as np\n",
    "import pdb\n",
    "import torch\n",
    "import random\n",
    "from torchvision import datasets, transforms\n",
    "\n",
    "# testing"
   ],
   "outputs": [
    {
     "output_type": "error",
     "ename": "ImportError",
     "evalue": "cannot import name 'softmax'",
     "traceback": [
      "\u001b[0;31m---------------------------------------------------------------------------\u001b[0m",
      "\u001b[0;31mImportError\u001b[0m                               Traceback (most recent call last)",
      "\u001b[0;32m<ipython-input-2-6e1a6d8888ba>\u001b[0m in \u001b[0;36m<module>\u001b[0;34m\u001b[0m\n\u001b[1;32m      1\u001b[0m \u001b[0;32mfrom\u001b[0m \u001b[0mutilsADCN\u001b[0m \u001b[0;32mimport\u001b[0m \u001b[0mcifarLoader\u001b[0m\u001b[0;34m,\u001b[0m \u001b[0mplotPerformance\u001b[0m\u001b[0;34m\u001b[0m\u001b[0;34m\u001b[0m\u001b[0m\n\u001b[0;32m----> 2\u001b[0;31m \u001b[0;32mfrom\u001b[0m \u001b[0mADCNbasic\u001b[0m \u001b[0;32mimport\u001b[0m \u001b[0mADCN\u001b[0m\u001b[0;34m\u001b[0m\u001b[0;34m\u001b[0m\u001b[0m\n\u001b[0m\u001b[1;32m      3\u001b[0m \u001b[0;32mfrom\u001b[0m \u001b[0mADCNmainloop\u001b[0m \u001b[0;32mimport\u001b[0m \u001b[0mADCNmainMT\u001b[0m\u001b[0;34m\u001b[0m\u001b[0;34m\u001b[0m\u001b[0m\n\u001b[1;32m      4\u001b[0m \u001b[0;32mfrom\u001b[0m \u001b[0mmodel\u001b[0m \u001b[0;32mimport\u001b[0m \u001b[0mConvAeCIFAR\u001b[0m\u001b[0;34m\u001b[0m\u001b[0;34m\u001b[0m\u001b[0m\n\u001b[1;32m      5\u001b[0m \u001b[0;32mimport\u001b[0m \u001b[0mnumpy\u001b[0m \u001b[0;32mas\u001b[0m \u001b[0mnp\u001b[0m\u001b[0;34m\u001b[0m\u001b[0;34m\u001b[0m\u001b[0m\n",
      "\u001b[0;32m~/Documents/KIERA/ADCNbasic.py\u001b[0m in \u001b[0;36m<module>\u001b[0;34m\u001b[0m\n\u001b[1;32m      1\u001b[0m \u001b[0;32mimport\u001b[0m \u001b[0mnumpy\u001b[0m \u001b[0;32mas\u001b[0m \u001b[0mnp\u001b[0m\u001b[0;34m\u001b[0m\u001b[0;34m\u001b[0m\u001b[0m\n\u001b[0;32m----> 2\u001b[0;31m \u001b[0;32mfrom\u001b[0m \u001b[0mscipy\u001b[0m\u001b[0;34m.\u001b[0m\u001b[0mspecial\u001b[0m \u001b[0;32mimport\u001b[0m \u001b[0msoftmax\u001b[0m\u001b[0;34m\u001b[0m\u001b[0;34m\u001b[0m\u001b[0m\n\u001b[0m\u001b[1;32m      3\u001b[0m \u001b[0;32mimport\u001b[0m \u001b[0mtime\u001b[0m\u001b[0;34m\u001b[0m\u001b[0;34m\u001b[0m\u001b[0m\n\u001b[1;32m      4\u001b[0m \u001b[0;32mimport\u001b[0m \u001b[0mcopy\u001b[0m\u001b[0;34m\u001b[0m\u001b[0;34m\u001b[0m\u001b[0m\n\u001b[1;32m      5\u001b[0m \u001b[0;32mimport\u001b[0m \u001b[0mtorch\u001b[0m\u001b[0;34m\u001b[0m\u001b[0;34m\u001b[0m\u001b[0m\n",
      "\u001b[0;31mImportError\u001b[0m: cannot import name 'softmax'"
     ]
    }
   ],
   "metadata": {}
  },
  {
   "cell_type": "code",
   "execution_count": null,
   "source": [],
   "outputs": [],
   "metadata": {}
  },
  {
   "cell_type": "code",
   "execution_count": null,
   "source": [
    "# random seed control\n",
    "np.random.seed(0)\n",
    "torch.manual_seed(0)\n",
    "random.seed(0)"
   ],
   "outputs": [],
   "metadata": {}
  },
  {
   "cell_type": "code",
   "execution_count": null,
   "source": [],
   "outputs": [],
   "metadata": {}
  },
  {
   "cell_type": "code",
   "execution_count": null,
   "source": [
    "# convert data to torch.FloatTensor\n",
    "transform = transforms.ToTensor()\n",
    "\n",
    "# load the training and test datasets\n",
    "labeledData   = datasets.CIFAR10(root='data', train=False,download=True, transform=transform)\n",
    "unlabeledData = datasets.CIFAR10(root='data', train=True, download=True, transform=transform)"
   ],
   "outputs": [],
   "metadata": {}
  },
  {
   "cell_type": "code",
   "execution_count": null,
   "source": [],
   "outputs": [],
   "metadata": {}
  },
  {
   "cell_type": "code",
   "execution_count": null,
   "source": [
    "dataStream = cifarLoader(labeledData, unlabeledData, nEachClassSamples = 500)"
   ],
   "outputs": [],
   "metadata": {}
  },
  {
   "cell_type": "code",
   "execution_count": null,
   "source": [
    "device = torch.device('cuda')"
   ],
   "outputs": [],
   "metadata": {}
  },
  {
   "cell_type": "code",
   "execution_count": null,
   "source": [
    "dataStream.createTask(nTask = 5, taskList = [[0,1],[2,3],[4,5],[6,7],[8,9]], taskType = 3)"
   ],
   "outputs": [],
   "metadata": {
    "scrolled": true
   }
  },
  {
   "cell_type": "code",
   "execution_count": null,
   "source": [
    "allMetrics = []"
   ],
   "outputs": [],
   "metadata": {}
  },
  {
   "cell_type": "code",
   "execution_count": null,
   "source": [
    "nNodeInit = 96  # 96  # 32\n",
    "nIn = 768  # 256  # 768\n",
    "regStrLwf = 5\n",
    "epoch = 1"
   ],
   "outputs": [],
   "metadata": {}
  },
  {
   "cell_type": "code",
   "execution_count": null,
   "source": [],
   "outputs": [],
   "metadata": {}
  },
  {
   "cell_type": "code",
   "execution_count": null,
   "source": [
    "ADCNnet = ADCN(dataStream.nOutput, nInput = nIn, nHiddenNode = nNodeInit)\n",
    "ADCNnet.ADCNcnn = ConvAeCIFAR()\n",
    "ADCNnet.regStrLWF = regStrLwf\n",
    "ADCNnet.nOutputPerTask = 2\n",
    "ADCNnet, performanceHistory0, allPerformance0 = ADCNmainMT(ADCNnet, dataStream, noOfEpoch = epoch, device = device)\n",
    "allMetrics.append(allPerformance0)"
   ],
   "outputs": [],
   "metadata": {
    "scrolled": true
   }
  },
  {
   "cell_type": "code",
   "execution_count": null,
   "source": [],
   "outputs": [],
   "metadata": {}
  },
  {
   "cell_type": "code",
   "execution_count": null,
   "source": [
    "ADCNnet = ADCN(dataStream.nOutput, nInput = nIn, nHiddenNode = nNodeInit)\n",
    "ADCNnet.ADCNcnn = ConvAeCIFAR()\n",
    "ADCNnet.regStrLWF = regStrLwf\n",
    "ADCNnet.nOutputPerTask = 2\n",
    "ADCNnet, performanceHistory1, allPerformance0 = ADCNmainMT(ADCNnet, dataStream, noOfEpoch = epoch, device = device)\n",
    "allMetrics.append(allPerformance0)"
   ],
   "outputs": [],
   "metadata": {
    "scrolled": true
   }
  },
  {
   "cell_type": "code",
   "execution_count": null,
   "source": [],
   "outputs": [],
   "metadata": {}
  },
  {
   "cell_type": "code",
   "execution_count": null,
   "source": [
    "ADCNnet = ADCN(dataStream.nOutput, nInput = nIn, nHiddenNode = nNodeInit)\n",
    "ADCNnet.ADCNcnn = ConvAeCIFAR()\n",
    "ADCNnet.regStrLWF = regStrLwf\n",
    "ADCNnet.nOutputPerTask = 2\n",
    "ADCNnet, performanceHistory2, allPerformance0 = ADCNmainMT(ADCNnet, dataStream, noOfEpoch = epoch, device = device)\n",
    "allMetrics.append(allPerformance0)"
   ],
   "outputs": [],
   "metadata": {
    "scrolled": true
   }
  },
  {
   "cell_type": "code",
   "execution_count": null,
   "source": [],
   "outputs": [],
   "metadata": {}
  },
  {
   "cell_type": "code",
   "execution_count": null,
   "source": [
    "ADCNnet = ADCN(dataStream.nOutput, nInput = nIn, nHiddenNode = nNodeInit)\n",
    "ADCNnet.ADCNcnn = ConvAeCIFAR()\n",
    "ADCNnet.regStrLWF = regStrLwf\n",
    "ADCNnet.nOutputPerTask = 2\n",
    "ADCNnet, performanceHistory3, allPerformance0 = ADCNmainMT(ADCNnet, dataStream, noOfEpoch = epoch, device = device)\n",
    "allMetrics.append(allPerformance0)"
   ],
   "outputs": [],
   "metadata": {
    "scrolled": true
   }
  },
  {
   "cell_type": "code",
   "execution_count": null,
   "source": [],
   "outputs": [],
   "metadata": {}
  },
  {
   "cell_type": "code",
   "execution_count": null,
   "source": [
    "ADCNnet = ADCN(dataStream.nOutput, nInput = nIn, nHiddenNode = nNodeInit)\n",
    "ADCNnet.ADCNcnn = ConvAeCIFAR()\n",
    "ADCNnet.regStrLWF = regStrLwf\n",
    "ADCNnet.nOutputPerTask = 2\n",
    "ADCNnet, performanceHistory4, allPerformance0 = ADCNmainMT(ADCNnet, dataStream, noOfEpoch = epoch, device = device)\n",
    "allMetrics.append(allPerformance0)"
   ],
   "outputs": [],
   "metadata": {
    "scrolled": true
   }
  },
  {
   "cell_type": "code",
   "execution_count": null,
   "source": [],
   "outputs": [],
   "metadata": {}
  },
  {
   "cell_type": "code",
   "execution_count": null,
   "source": [
    "# all results\n",
    "\n",
    "# 0: accuracy\n",
    "# 1: all tasks accuracy\n",
    "# 2: BWT\n",
    "# 3: FWT\n",
    "# 4: ARI\n",
    "# 5: NMI\n",
    "# 6: f1_score\n",
    "# 7: precision_score\n",
    "# 8: recall_score\n",
    "# 9: training_time\n",
    "# 10: testingTime\n",
    "# 11: nHiddenLayer\n",
    "# 12: nHiddenNode\n",
    "# 13: nCluster\n",
    "# 14: nMemory\n",
    "\n",
    "meanResults = np.round_(np.mean(allMetrics,0), decimals=2)\n",
    "stdResults  = np.round_(np.std(allMetrics,0), decimals=2)\n",
    "\n",
    "print('\\n')\n",
    "print('========== Performance ==========')\n",
    "print('Preq Accuracy: ', meanResults[0].item(), '(+/-)',stdResults[0].item())\n",
    "print('All tasks accuracy: ', meanResults[1].item(), '(+/-)',stdResults[1].item())\n",
    "print('BWT: ', meanResults[2].item(), '(+/-)',stdResults[2].item())\n",
    "print('FWT: ', meanResults[3].item(), '(+/-)',stdResults[3].item())\n",
    "print('ARI: ', meanResults[4].item(), '(+/-)',stdResults[4].item())\n",
    "print('NMI: ', meanResults[5].item(), '(+/-)',stdResults[5].item())\n",
    "print('F1 score: ', meanResults[6].item(), '(+/-)',stdResults[6].item())\n",
    "print('Precision: ', meanResults[7].item(), '(+/-)',stdResults[7].item())\n",
    "print('Recall: ', meanResults[8].item(), '(+/-)',stdResults[8].item())\n",
    "print('Training time: ', meanResults[9].item(), '(+/-)',stdResults[9].item())\n",
    "print('Testing time: ', meanResults[10].item(), '(+/-)',stdResults[10].item())\n",
    "\n",
    "print('\\n')\n",
    "print('========== Network ==========')\n",
    "print('Number of hidden layers: ', meanResults[11].item(), '(+/-)',stdResults[11].item())\n",
    "print('Number of features: ', meanResults[12].item(), '(+/-)',stdResults[12].item())\n",
    "print('Number of clusters: ', meanResults[13].item(), '(+/-)',stdResults[13].item())\n",
    "print('Number of memories: ', meanResults[14].item(), '(+/-)',stdResults[14].item())"
   ],
   "outputs": [],
   "metadata": {}
  },
  {
   "cell_type": "code",
   "execution_count": null,
   "source": [],
   "outputs": [],
   "metadata": {}
  }
 ],
 "metadata": {
  "kernelspec": {
   "name": "python3",
   "display_name": "Python 3.6.7 64-bit ('base': conda)"
  },
  "language_info": {
   "codemirror_mode": {
    "name": "ipython",
    "version": 3
   },
   "file_extension": ".py",
   "mimetype": "text/x-python",
   "name": "python",
   "nbconvert_exporter": "python",
   "pygments_lexer": "ipython3",
   "version": "3.6.7"
  },
  "interpreter": {
   "hash": "bb2686e1c4d4d3f3585255a3cba18a3e5dff9174ede3ba5340804beabd2a1828"
  }
 },
 "nbformat": 4,
 "nbformat_minor": 4
}