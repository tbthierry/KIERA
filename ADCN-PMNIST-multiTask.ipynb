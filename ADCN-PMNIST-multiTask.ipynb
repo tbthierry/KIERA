{
 "cells": [
  {
   "cell_type": "code",
   "execution_count": null,
   "source": [
    "from utilsADCN import mnistLoader, plotPerformance\n",
    "from ADCNbasic import ADCN\n",
    "from ADCNmainloop import ADCNmainMT\n",
    "import numpy as np\n",
    "import pdb\n",
    "import torch\n",
    "import random\n",
    "from torchvision import datasets, transforms\n",
    "from model import mlpAePMNIST"
   ],
   "outputs": [],
   "metadata": {}
  },
  {
   "cell_type": "code",
   "execution_count": 2,
   "source": [
    "print(\"Tesrting\")\n",
    "print(\"XIxixijjjj\")"
   ],
   "outputs": [
    {
     "output_type": "stream",
     "name": "stdout",
     "text": [
      "Tesrting\n",
      "XIxixi\n"
     ]
    }
   ],
   "metadata": {}
  },
  {
   "cell_type": "code",
   "execution_count": null,
   "source": [
    "# random seed control\n",
    "np.random.seed(0)\n",
    "torch.manual_seed(0)\n",
    "random.seed(0)"
   ],
   "outputs": [],
   "metadata": {}
  },
  {
   "cell_type": "code",
   "execution_count": null,
   "source": [
    "# convert data to torch.FloatTensor\n",
    "transform = transforms.ToTensor()\n",
    "\n",
    "# load the training and test datasets\n",
    "labeledData   = datasets.MNIST(root='data', train=False,download=True, transform=transform)\n",
    "unlabeledData = datasets.MNIST(root='data', train=True, download=True, transform=transform)"
   ],
   "outputs": [],
   "metadata": {}
  },
  {
   "cell_type": "code",
   "execution_count": null,
   "source": [],
   "outputs": [],
   "metadata": {}
  },
  {
   "cell_type": "code",
   "execution_count": null,
   "source": [
    "dataStream = mnistLoader(labeledData, unlabeledData, nEachClassSamples = 500)"
   ],
   "outputs": [],
   "metadata": {}
  },
  {
   "cell_type": "code",
   "execution_count": null,
   "source": [
    "device = torch.device('cuda')"
   ],
   "outputs": [],
   "metadata": {}
  },
  {
   "cell_type": "code",
   "execution_count": null,
   "source": [
    "dataStream.createTask(nTask = 4)"
   ],
   "outputs": [],
   "metadata": {
    "scrolled": true
   }
  },
  {
   "cell_type": "code",
   "execution_count": null,
   "source": [
    "allMetrics = []"
   ],
   "outputs": [],
   "metadata": {}
  },
  {
   "cell_type": "code",
   "execution_count": null,
   "source": [],
   "outputs": [],
   "metadata": {}
  },
  {
   "cell_type": "code",
   "execution_count": null,
   "source": [
    "nOutput = 500\n",
    "nNodeAe = 96  # 32  # 96\n",
    "nHidden = 1000\n",
    "regStrLWF = 5"
   ],
   "outputs": [],
   "metadata": {}
  },
  {
   "cell_type": "code",
   "execution_count": null,
   "source": [],
   "outputs": [],
   "metadata": {}
  },
  {
   "cell_type": "code",
   "execution_count": null,
   "source": [
    "ADCNnet = ADCN(dataStream.nOutput, nInput = nOutput, nHiddenNode = nNodeAe)\n",
    "ADCNnet.regStrLWF = regStrLWF\n",
    "ADCNnet.ADCNcnn = mlpAePMNIST(nHidden,nOutput)\n",
    "ADCNnet, performanceHistory0, allPerformance0 = ADCNmainMT(ADCNnet, dataStream, device = device)\n",
    "allMetrics.append(allPerformance0)"
   ],
   "outputs": [],
   "metadata": {
    "scrolled": true
   }
  },
  {
   "cell_type": "code",
   "execution_count": null,
   "source": [],
   "outputs": [],
   "metadata": {}
  },
  {
   "cell_type": "code",
   "execution_count": null,
   "source": [
    "ADCNnet = ADCN(dataStream.nOutput, nInput = nOutput, nHiddenNode = nNodeAe)\n",
    "ADCNnet.regStrLWF = regStrLWF\n",
    "ADCNnet.ADCNcnn = mlpAePMNIST(nHidden,nOutput)\n",
    "ADCNnet, performanceHistory1, allPerformance0 = ADCNmainMT(ADCNnet, dataStream, device = device)\n",
    "allMetrics.append(allPerformance0)"
   ],
   "outputs": [],
   "metadata": {
    "scrolled": true
   }
  },
  {
   "cell_type": "code",
   "execution_count": null,
   "source": [],
   "outputs": [],
   "metadata": {}
  },
  {
   "cell_type": "code",
   "execution_count": null,
   "source": [
    "ADCNnet = ADCN(dataStream.nOutput, nInput = nOutput, nHiddenNode = nNodeAe)\n",
    "ADCNnet.regStrLWF = regStrLWF\n",
    "ADCNnet.ADCNcnn = mlpAePMNIST(nHidden,nOutput)\n",
    "ADCNnet, performanceHistory2, allPerformance0 = ADCNmainMT(ADCNnet, dataStream, device = device)\n",
    "allMetrics.append(allPerformance0)"
   ],
   "outputs": [],
   "metadata": {
    "scrolled": true
   }
  },
  {
   "cell_type": "code",
   "execution_count": null,
   "source": [],
   "outputs": [],
   "metadata": {}
  },
  {
   "cell_type": "code",
   "execution_count": null,
   "source": [
    "ADCNnet = ADCN(dataStream.nOutput, nInput = nOutput, nHiddenNode = nNodeAe)\n",
    "ADCNnet.regStrLWF = regStrLWF\n",
    "ADCNnet.ADCNcnn = mlpAePMNIST(nHidden,nOutput)\n",
    "ADCNnet, performanceHistory3, allPerformance0 = ADCNmainMT(ADCNnet, dataStream, device = device)\n",
    "allMetrics.append(allPerformance0)"
   ],
   "outputs": [],
   "metadata": {
    "scrolled": true
   }
  },
  {
   "cell_type": "code",
   "execution_count": null,
   "source": [],
   "outputs": [],
   "metadata": {}
  },
  {
   "cell_type": "code",
   "execution_count": null,
   "source": [
    "ADCNnet = ADCN(dataStream.nOutput, nInput = nOutput, nHiddenNode = nNodeAe)\n",
    "ADCNnet.regStrLWF = regStrLWF\n",
    "ADCNnet.ADCNcnn = mlpAePMNIST(nHidden,nOutput)\n",
    "ADCNnet, performanceHistory4, allPerformance0 = ADCNmainMT(ADCNnet, dataStream, device = device)\n",
    "allMetrics.append(allPerformance0)"
   ],
   "outputs": [],
   "metadata": {
    "scrolled": true
   }
  },
  {
   "cell_type": "code",
   "execution_count": null,
   "source": [],
   "outputs": [],
   "metadata": {}
  },
  {
   "cell_type": "code",
   "execution_count": null,
   "source": [
    "# all results\n",
    "\n",
    "# 0: accuracy\n",
    "# 1: all tasks accuracy\n",
    "# 2: BWT\n",
    "# 3: FWT\n",
    "# 4: ARI\n",
    "# 5: NMI\n",
    "# 6: f1_score\n",
    "# 7: precision_score\n",
    "# 8: recall_score\n",
    "# 9: training_time\n",
    "# 10: testingTime\n",
    "# 11: nHiddenLayer\n",
    "# 12: nHiddenNode\n",
    "# 13: nCluster\n",
    "# 14: nMemory\n",
    "\n",
    "meanResults = np.round_(np.mean(allMetrics,0), decimals=2)\n",
    "stdResults  = np.round_(np.std(allMetrics,0), decimals=2)\n",
    "\n",
    "print('\\n')\n",
    "print('========== Performance ==========')\n",
    "print('Preq Accuracy: ', meanResults[0].item(), '(+/-)',stdResults[0].item())\n",
    "print('All tasks accuracy: ', meanResults[1].item(), '(+/-)',stdResults[1].item())\n",
    "print('BWT: ', meanResults[2].item(), '(+/-)',stdResults[2].item())\n",
    "print('FWT: ', meanResults[3].item(), '(+/-)',stdResults[3].item())\n",
    "print('ARI: ', meanResults[4].item(), '(+/-)',stdResults[4].item())\n",
    "print('NMI: ', meanResults[5].item(), '(+/-)',stdResults[5].item())\n",
    "print('F1 score: ', meanResults[6].item(), '(+/-)',stdResults[6].item())\n",
    "print('Precision: ', meanResults[7].item(), '(+/-)',stdResults[7].item())\n",
    "print('Recall: ', meanResults[8].item(), '(+/-)',stdResults[8].item())\n",
    "print('Training time: ', meanResults[9].item(), '(+/-)',stdResults[9].item())\n",
    "print('Testing time: ', meanResults[10].item(), '(+/-)',stdResults[10].item())\n",
    "\n",
    "print('\\n')\n",
    "print('========== Network ==========')\n",
    "print('Number of hidden layers: ', meanResults[11].item(), '(+/-)',stdResults[11].item())\n",
    "print('Number of features: ', meanResults[12].item(), '(+/-)',stdResults[12].item())\n",
    "print('Number of clusters: ', meanResults[13].item(), '(+/-)',stdResults[13].item())\n",
    "print('Number of memories: ', meanResults[14].item(), '(+/-)',stdResults[14].item())"
   ],
   "outputs": [],
   "metadata": {}
  }
 ],
 "metadata": {
  "kernelspec": {
   "name": "python3",
   "display_name": "Python 3.6.7 64-bit ('base': conda)"
  },
  "language_info": {
   "name": "python",
   "version": "3.6.13",
   "mimetype": "text/x-python",
   "codemirror_mode": {
    "name": "ipython",
    "version": 3
   },
   "pygments_lexer": "ipython3",
   "nbconvert_exporter": "python",
   "file_extension": ".py"
  },
  "interpreter": {
   "hash": "bb2686e1c4d4d3f3585255a3cba18a3e5dff9174ede3ba5340804beabd2a1828"
  }
 },
 "nbformat": 4,
 "nbformat_minor": 4
}