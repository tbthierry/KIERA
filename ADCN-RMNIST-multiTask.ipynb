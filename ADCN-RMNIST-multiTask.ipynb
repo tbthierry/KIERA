{
 "cells": [
  {
   "cell_type": "code",
   "execution_count": null,
   "metadata": {},
   "outputs": [],
   "source": [
    "from utilsADCN import mnistLoader, plotPerformance\n",
    "from ADCNbasic import ADCN\n",
    "from ADCNmainloop import ADCNmainMT\n",
    "import numpy as np\n",
    "import pdb\n",
    "import torch\n",
    "import random\n",
    "from torchvision import datasets, transforms"
   ]
  },
  {
   "cell_type": "code",
   "execution_count": null,
   "metadata": {},
   "outputs": [],
   "source": []
  },
  {
   "cell_type": "code",
   "execution_count": null,
   "metadata": {},
   "outputs": [],
   "source": [
    "# random seed control\n",
    "np.random.seed(0)\n",
    "torch.manual_seed(0)\n",
    "random.seed(0)"
   ]
  },
  {
   "cell_type": "code",
   "execution_count": null,
   "metadata": {},
   "outputs": [],
   "source": []
  },
  {
   "cell_type": "code",
   "execution_count": null,
   "metadata": {},
   "outputs": [],
   "source": [
    "# convert data to torch.FloatTensor\n",
    "transform = transforms.ToTensor()\n",
    "\n",
    "# load the training and test datasets\n",
    "labeledData   = datasets.MNIST(root='data', train=False,download=True, transform=transform)\n",
    "unlabeledData = datasets.MNIST(root='data', train=True, download=True, transform=transform)"
   ]
  },
  {
   "cell_type": "code",
   "execution_count": null,
   "metadata": {},
   "outputs": [],
   "source": []
  },
  {
   "cell_type": "code",
   "execution_count": null,
   "metadata": {},
   "outputs": [],
   "source": [
    "dataStream = mnistLoader(labeledData, unlabeledData, nEachClassSamples = 500)"
   ]
  },
  {
   "cell_type": "code",
   "execution_count": null,
   "metadata": {},
   "outputs": [],
   "source": [
    "device = torch.device('cuda')"
   ]
  },
  {
   "cell_type": "code",
   "execution_count": null,
   "metadata": {
    "scrolled": true
   },
   "outputs": [],
   "source": [
    "dataStream.createTask(nTask = 4, taskList = [[0,30],[31,60],[61,90],[91,120]], taskType = 2)"
   ]
  },
  {
   "cell_type": "code",
   "execution_count": null,
   "metadata": {},
   "outputs": [],
   "source": [
    "allMetrics = []"
   ]
  },
  {
   "cell_type": "code",
   "execution_count": null,
   "metadata": {},
   "outputs": [],
   "source": [
    "nInitNode = 96 #32 # 96"
   ]
  },
  {
   "cell_type": "code",
   "execution_count": null,
   "metadata": {},
   "outputs": [],
   "source": []
  },
  {
   "cell_type": "code",
   "execution_count": null,
   "metadata": {
    "scrolled": true
   },
   "outputs": [],
   "source": [
    "ADCNnet = ADCN(dataStream.nOutput, nHiddenNode = nInitNode)\n",
    "ADCNnet, performanceHistory0, allPerformance0 = ADCNmainMT(ADCNnet, dataStream, device = device)\n",
    "allMetrics.append(allPerformance0)"
   ]
  },
  {
   "cell_type": "code",
   "execution_count": null,
   "metadata": {},
   "outputs": [],
   "source": []
  },
  {
   "cell_type": "code",
   "execution_count": null,
   "metadata": {
    "scrolled": true
   },
   "outputs": [],
   "source": [
    "ADCNnet = ADCN(dataStream.nOutput, nHiddenNode = nInitNode)\n",
    "ADCNnet, performanceHistory1, allPerformance1 = ADCNmainMT(ADCNnet, dataStream, device = device)\n",
    "allMetrics.append(allPerformance1)"
   ]
  },
  {
   "cell_type": "code",
   "execution_count": null,
   "metadata": {},
   "outputs": [],
   "source": []
  },
  {
   "cell_type": "code",
   "execution_count": null,
   "metadata": {
    "scrolled": true
   },
   "outputs": [],
   "source": [
    "ADCNnet = ADCN(dataStream.nOutput, nHiddenNode = nInitNode)\n",
    "ADCNnet, performanceHistory2, allPerformance2 = ADCNmainMT(ADCNnet, dataStream, device = device)\n",
    "allMetrics.append(allPerformance2)"
   ]
  },
  {
   "cell_type": "code",
   "execution_count": null,
   "metadata": {},
   "outputs": [],
   "source": []
  },
  {
   "cell_type": "code",
   "execution_count": null,
   "metadata": {
    "scrolled": true
   },
   "outputs": [],
   "source": [
    "ADCNnet = ADCN(dataStream.nOutput, nHiddenNode = nInitNode)\n",
    "ADCNnet, performanceHistory3, allPerformance3 = ADCNmainMT(ADCNnet, dataStream, device = device)\n",
    "allMetrics.append(allPerformance3)"
   ]
  },
  {
   "cell_type": "code",
   "execution_count": null,
   "metadata": {},
   "outputs": [],
   "source": []
  },
  {
   "cell_type": "code",
   "execution_count": null,
   "metadata": {
    "scrolled": true
   },
   "outputs": [],
   "source": [
    "ADCNnet = ADCN(dataStream.nOutput, nHiddenNode = nInitNode)\n",
    "ADCNnet, performanceHistory4, allPerformance4 = ADCNmainMT(ADCNnet, dataStream, device = device)\n",
    "allMetrics.append(allPerformance4)"
   ]
  },
  {
   "cell_type": "code",
   "execution_count": null,
   "metadata": {},
   "outputs": [],
   "source": []
  },
  {
   "cell_type": "code",
   "execution_count": null,
   "metadata": {},
   "outputs": [],
   "source": [
    "# all results\n",
    "\n",
    "# 0: accuracy\n",
    "# 1: all tasks accuracy\n",
    "# 2: BWT\n",
    "# 3: FWT\n",
    "# 4: ARI\n",
    "# 5: NMI\n",
    "# 6: f1_score\n",
    "# 7: precision_score\n",
    "# 8: recall_score\n",
    "# 9: training_time\n",
    "# 10: testingTime\n",
    "# 11: nHiddenLayer\n",
    "# 12: nHiddenNode\n",
    "# 13: nCluster\n",
    "# 14: nMemory\n",
    "\n",
    "meanResults = np.round_(np.mean(allMetrics,0), decimals=2)\n",
    "stdResults  = np.round_(np.std(allMetrics,0), decimals=2)\n",
    "\n",
    "print('\\n')\n",
    "print('========== Performance ==========')\n",
    "print('Preq Accuracy: ', meanResults[0].item(), '(+/-)',stdResults[0].item())\n",
    "print('All tasks accuracy: ', meanResults[1].item(), '(+/-)',stdResults[1].item())\n",
    "print('BWT: ', meanResults[2].item(), '(+/-)',stdResults[2].item())\n",
    "print('FWT: ', meanResults[3].item(), '(+/-)',stdResults[3].item())\n",
    "print('ARI: ', meanResults[4].item(), '(+/-)',stdResults[4].item())\n",
    "print('NMI: ', meanResults[5].item(), '(+/-)',stdResults[5].item())\n",
    "print('F1 score: ', meanResults[6].item(), '(+/-)',stdResults[6].item())\n",
    "print('Precision: ', meanResults[7].item(), '(+/-)',stdResults[7].item())\n",
    "print('Recall: ', meanResults[8].item(), '(+/-)',stdResults[8].item())\n",
    "print('Training time: ', meanResults[9].item(), '(+/-)',stdResults[9].item())\n",
    "print('Testing time: ', meanResults[10].item(), '(+/-)',stdResults[10].item())\n",
    "\n",
    "print('\\n')\n",
    "print('========== Network ==========')\n",
    "print('Number of hidden layers: ', meanResults[11].item(), '(+/-)',stdResults[11].item())\n",
    "print('Number of features: ', meanResults[12].item(), '(+/-)',stdResults[12].item())\n",
    "print('Number of clusters: ', meanResults[13].item(), '(+/-)',stdResults[13].item())\n",
    "print('Number of memories: ', meanResults[14].item(), '(+/-)',stdResults[14].item())"
   ]
  },
  {
   "cell_type": "code",
   "execution_count": null,
   "metadata": {},
   "outputs": [],
   "source": []
  },
  {
   "cell_type": "code",
   "execution_count": null,
   "metadata": {},
   "outputs": [],
   "source": [
    "# allPerformance0[0]"
   ]
  },
  {
   "cell_type": "code",
   "execution_count": null,
   "metadata": {},
   "outputs": [],
   "source": [
    "# import matplotlib.pyplot as plt\n",
    "\n",
    "# def plotPerformance2(Iter,accuracy,hiddenNode,hiddenLayer,nCluster):\n",
    "#     SMALL_SIZE = 10\n",
    "#     MEDIUM_SIZE = 12\n",
    "#     BIGGER_SIZE = 14\n",
    "\n",
    "#     plt.rc('font', size=8)                   # controls default text sizes\n",
    "#     plt.rc('axes', titlesize=BIGGER_SIZE)    # fontsize of the axes title\n",
    "#     plt.rc('axes', labelsize=MEDIUM_SIZE)    # fontsize of the x and y labels\n",
    "#     plt.rc('xtick', labelsize=SMALL_SIZE)    # fontsize of the tick labels\n",
    "#     plt.rc('ytick', labelsize=SMALL_SIZE)    # fontsize of the tick labels\n",
    "#     plt.rc('legend', fontsize=SMALL_SIZE)    # legend fontsize\n",
    "#     plt.rc('figure', titlesize=BIGGER_SIZE)  # fontsize of the figure title\n",
    "\n",
    "#     fig, axes = plt.subplots(4,1,figsize=(8, 12))\n",
    "# #     fig.tight_layout()\n",
    "\n",
    "#     ax1 = axes[0]\n",
    "#     ax2 = axes[1]\n",
    "#     ax3 = axes[2]\n",
    "#     ax4 = axes[3]\n",
    "    \n",
    "#     ax1.plot(Iter,accuracy,'k-')\n",
    "# #     ax1.set_title('Testing accuracy')\n",
    "#     ax1.set_ylabel('Áccuracy (%)')\n",
    "# #     ax1.set_xlabel('Number of bathces')\n",
    "#     ax1.yaxis.tick_right()\n",
    "#     ax1.autoscale_view('tight')\n",
    "#     ax1.set_ylim(ymin=0,ymax=100)\n",
    "#     ax1.set_xlim(xmin=0,xmax=len(Iter))\n",
    "\n",
    "#     ax2.plot(Iter[0:51],hiddenNode[0:51],'k--')\n",
    "#     ax2.plot(Iter[51:],hiddenNode[51:],'k-')\n",
    "# #     ax2.set_title('Testing loss')\n",
    "#     ax2.set_ylabel('Hidden node')\n",
    "# #     ax2.set_xlabel('Number of bathces')\n",
    "#     ax2.yaxis.tick_right()\n",
    "#     ax2.autoscale_view('tight')\n",
    "#     ax2.set_ylim(ymin=40,ymax=60)\n",
    "#     ax2.set_xlim(xmin=0,xmax=len(Iter))\n",
    "\n",
    "#     ax3.plot(Iter[0:51],hiddenLayer[0:51],'k--')\n",
    "#     ax3.plot(Iter[51:],hiddenLayer[51:],'k-')\n",
    "# #     ax3.set_title('Hidden node evolution')\n",
    "#     ax3.set_ylabel('Hidden layer')\n",
    "# #     ax3.set_xlabel('Number of bathces')\n",
    "#     ax3.yaxis.tick_right()\n",
    "#     ax3.autoscale_view('tight')\n",
    "#     ax3.set_ylim(ymin=0)\n",
    "#     ax3.set_xlim(xmin=0,xmax=len(Iter))\n",
    "\n",
    "#     ax4.plot(Iter[0:51],nCluster[0:51],'k--')\n",
    "#     ax4.plot(Iter[51:],nCluster[51:],'k-')\n",
    "# #     ax4.set_title('Hidden layer evolution')\n",
    "#     ax4.set_ylabel('Cluster')\n",
    "#     ax4.set_xlabel('Number of bathces')\n",
    "#     ax4.yaxis.tick_right()\n",
    "#     ax4.autoscale_view('tight')\n",
    "#     ax4.set_ylim(ymin=0)\n",
    "#     ax4.set_xlim(xmin=0,xmax=len(Iter))"
   ]
  },
  {
   "cell_type": "code",
   "execution_count": null,
   "metadata": {},
   "outputs": [],
   "source": [
    "# plotPerformance2(performanceHistory[0],performanceHistory[1],performanceHistory[3],performanceHistory[2],performanceHistory[4])"
   ]
  }
 ],
 "metadata": {
  "kernelspec": {
   "display_name": "Python 3",
   "language": "python",
   "name": "python3"
  },
  "language_info": {
   "codemirror_mode": {
    "name": "ipython",
    "version": 3
   },
   "file_extension": ".py",
   "mimetype": "text/x-python",
   "name": "python",
   "nbconvert_exporter": "python",
   "pygments_lexer": "ipython3",
   "version": "3.7.6"
  }
 },
 "nbformat": 4,
 "nbformat_minor": 4
}
