{
 "cells": [
  {
   "cell_type": "code",
   "execution_count": null,
   "metadata": {},
   "outputs": [],
   "source": [
    "from utilsADCN import mnistLoader, plotPerformance\n",
    "from ADCNbasic import ADCN\n",
    "from ADCNmainloop import ADCNmainMT\n",
    "import numpy as np\n",
    "import pdb\n",
    "import torch\n",
    "import random\n",
    "from torchvision import datasets, transforms"
   ]
  },
  {
   "cell_type": "code",
   "execution_count": null,
   "metadata": {},
   "outputs": [],
   "source": []
  },
  {
   "cell_type": "code",
   "execution_count": null,
   "metadata": {},
   "outputs": [],
   "source": [
    "# random seed control\n",
    "np.random.seed(0)\n",
    "torch.manual_seed(0)\n",
    "random.seed(0)"
   ]
  },
  {
   "cell_type": "code",
   "execution_count": null,
   "metadata": {},
   "outputs": [],
   "source": []
  },
  {
   "cell_type": "code",
   "execution_count": null,
   "metadata": {},
   "outputs": [],
   "source": [
    "# convert data to torch.FloatTensor\n",
    "transform = transforms.ToTensor()\n",
    "\n",
    "# load the training and test datasets\n",
    "labeledData   = datasets.MNIST(root='data', train=False,download=True, transform=transform)\n",
    "unlabeledData = datasets.MNIST(root='data', train=True, download=True, transform=transform)"
   ]
  },
  {
   "cell_type": "code",
   "execution_count": null,
   "metadata": {},
   "outputs": [],
   "source": [
    "dataStream = mnistLoader(labeledData, unlabeledData, nEachClassSamples = 500)"
   ]
  },
  {
   "cell_type": "code",
   "execution_count": null,
   "metadata": {},
   "outputs": [],
   "source": [
    "device = torch.device('cuda')"
   ]
  },
  {
   "cell_type": "code",
   "execution_count": null,
   "metadata": {
    "scrolled": true
   },
   "outputs": [],
   "source": [
    "dataStream.createTask(nTask = 5, taskList = [[0,1],[2,3],[4,5],[6,7],[8,9]], taskType = 3)"
   ]
  },
  {
   "cell_type": "code",
   "execution_count": null,
   "metadata": {},
   "outputs": [],
   "source": [
    "allMetrics = []"
   ]
  },
  {
   "cell_type": "code",
   "execution_count": null,
   "metadata": {},
   "outputs": [],
   "source": [
    "nNodeInit = 96  # 96  # 32"
   ]
  },
  {
   "cell_type": "code",
   "execution_count": null,
   "metadata": {},
   "outputs": [],
   "source": []
  },
  {
   "cell_type": "code",
   "execution_count": null,
   "metadata": {
    "scrolled": true
   },
   "outputs": [],
   "source": [
    "ADCNnet = ADCN(dataStream.nOutput, nHiddenNode = nNodeInit)\n",
    "ADCNnet.nOutputPerTask = 2\n",
    "ADCNnet, performanceHistory0, allPerformance0 = ADCNmainMT(ADCNnet, dataStream, device = device)\n",
    "allMetrics.append(allPerformance0)"
   ]
  },
  {
   "cell_type": "code",
   "execution_count": null,
   "metadata": {},
   "outputs": [],
   "source": []
  },
  {
   "cell_type": "code",
   "execution_count": null,
   "metadata": {
    "scrolled": true
   },
   "outputs": [],
   "source": [
    "ADCNnet = ADCN(dataStream.nOutput, nHiddenNode = nNodeInit)\n",
    "ADCNnet.nOutputPerTask = 2\n",
    "ADCNnet, performanceHistory1, allPerformance1 = ADCNmainMT(ADCNnet, dataStream, device = device)\n",
    "allMetrics.append(allPerformance1)"
   ]
  },
  {
   "cell_type": "code",
   "execution_count": null,
   "metadata": {},
   "outputs": [],
   "source": []
  },
  {
   "cell_type": "code",
   "execution_count": null,
   "metadata": {
    "scrolled": true
   },
   "outputs": [],
   "source": [
    "ADCNnet = ADCN(dataStream.nOutput, nHiddenNode = nNodeInit)\n",
    "ADCNnet.nOutputPerTask = 2\n",
    "ADCNnet, performanceHistory2, allPerformance2 = ADCNmainMT(ADCNnet, dataStream, device = device)\n",
    "allMetrics.append(allPerformance2)"
   ]
  },
  {
   "cell_type": "code",
   "execution_count": null,
   "metadata": {},
   "outputs": [],
   "source": []
  },
  {
   "cell_type": "code",
   "execution_count": null,
   "metadata": {
    "scrolled": true
   },
   "outputs": [],
   "source": [
    "ADCNnet = ADCN(dataStream.nOutput, nHiddenNode = nNodeInit)\n",
    "ADCNnet.nOutputPerTask = 2\n",
    "ADCNnet, performanceHistory3, allPerformance3 = ADCNmainMT(ADCNnet, dataStream, device = device)\n",
    "allMetrics.append(allPerformance3)"
   ]
  },
  {
   "cell_type": "code",
   "execution_count": null,
   "metadata": {},
   "outputs": [],
   "source": []
  },
  {
   "cell_type": "code",
   "execution_count": null,
   "metadata": {
    "scrolled": true
   },
   "outputs": [],
   "source": [
    "ADCNnet = ADCN(dataStream.nOutput, nHiddenNode = nNodeInit)\n",
    "ADCNnet.nOutputPerTask = 2\n",
    "ADCNnet, performanceHistory4, allPerformance4 = ADCNmainMT(ADCNnet, dataStream, device = device)\n",
    "allMetrics.append(allPerformance4)"
   ]
  },
  {
   "cell_type": "code",
   "execution_count": null,
   "metadata": {},
   "outputs": [],
   "source": []
  },
  {
   "cell_type": "code",
   "execution_count": null,
   "metadata": {},
   "outputs": [],
   "source": [
    "# all results\n",
    "\n",
    "# 0: accuracy\n",
    "# 1: all tasks accuracy\n",
    "# 2: BWT\n",
    "# 3: FWT\n",
    "# 4: ARI\n",
    "# 5: NMI\n",
    "# 6: f1_score\n",
    "# 7: precision_score\n",
    "# 8: recall_score\n",
    "# 9: training_time\n",
    "# 10: testingTime\n",
    "# 11: nHiddenLayer\n",
    "# 12: nHiddenNode\n",
    "# 13: nCluster\n",
    "# 14: nMemory\n",
    "\n",
    "meanResults = np.round_(np.mean(allMetrics,0), decimals=2)\n",
    "stdResults  = np.round_(np.std(allMetrics,0), decimals=2)\n",
    "\n",
    "print('\\n')\n",
    "print('========== Performance ==========')\n",
    "print('Preq Accuracy: ', meanResults[0].item(), '(+/-)',stdResults[0].item())\n",
    "print('All tasks accuracy: ', meanResults[1].item(), '(+/-)',stdResults[1].item())\n",
    "print('BWT: ', meanResults[2].item(), '(+/-)',stdResults[2].item())\n",
    "print('FWT: ', meanResults[3].item(), '(+/-)',stdResults[3].item())\n",
    "print('ARI: ', meanResults[4].item(), '(+/-)',stdResults[4].item())\n",
    "print('NMI: ', meanResults[5].item(), '(+/-)',stdResults[5].item())\n",
    "print('F1 score: ', meanResults[6].item(), '(+/-)',stdResults[6].item())\n",
    "print('Precision: ', meanResults[7].item(), '(+/-)',stdResults[7].item())\n",
    "print('Recall: ', meanResults[8].item(), '(+/-)',stdResults[8].item())\n",
    "print('Training time: ', meanResults[9].item(), '(+/-)',stdResults[9].item())\n",
    "print('Testing time: ', meanResults[10].item(), '(+/-)',stdResults[10].item())\n",
    "\n",
    "print('\\n')\n",
    "print('========== Network ==========')\n",
    "print('Number of hidden layers: ', meanResults[11].item(), '(+/-)',stdResults[11].item())\n",
    "print('Number of features: ', meanResults[12].item(), '(+/-)',stdResults[12].item())\n",
    "print('Number of clusters: ', meanResults[13].item(), '(+/-)',stdResults[13].item())\n",
    "print('Number of memories: ', meanResults[14].item(), '(+/-)',stdResults[14].item())"
   ]
  },
  {
   "cell_type": "code",
   "execution_count": null,
   "metadata": {},
   "outputs": [],
   "source": [
    "# === Performance result ===\n",
    "# Prequential Accuracy:  91.62172635971822 (+/-) 6.966272085891486\n",
    "# Prequential F1 score:  0.9154760674784368\n",
    "# Prequential ARI:  0.8273728981527069\n",
    "# Prequential NMI:  0.841507592941155\n",
    "# Mean Task Accuracy:  84.44 (+/-) 7.017292925338085\n",
    "# All Task Accuracy:  [96.6, 82.9, 78.4, 87.1, 77.2]\n",
    "# Post Task Accuracy:  [99.7, 93.8, 91.4, 93.5]\n",
    "# Pre Task Accuracy:  [6.1, 14.7, 15.9, 49.7]\n",
    "# B Matrix:  [11.0, 9.7, 11.0, 8.1]\n",
    "# BWT:  -8.349999999999994\n",
    "# FWT:  11.650000000000002\n",
    "# Testing Time:  0.1469868779182434 (+/-) 0.046203883901120624\n",
    "# Training Time:  36.2624014377594 (+/-) 7.4291752438856715\n",
    "# Total Training Time:  293.816214799881 (+/-) 7.4291752438856715"
   ]
  },
  {
   "cell_type": "code",
   "execution_count": null,
   "metadata": {},
   "outputs": [],
   "source": []
  },
  {
   "cell_type": "code",
   "execution_count": null,
   "metadata": {},
   "outputs": [],
   "source": [
    "# === Performance result ===\n",
    "# Prequential Accuracy:  91.679943476491 (+/-) 7.222572360099139\n",
    "# Prequential F1 score:  0.9180799324051488\n",
    "# Prequential ARI:  0.8317684491505093\n",
    "# Prequential NMI:  0.8457629862492594\n",
    "# Mean Task Accuracy:  83.08000000000001 (+/-) 8.18813776142048\n",
    "# All Task Accuracy:  [95.2, 76.7, 74.2, 90.3, 79.0]\n",
    "# Post Task Accuracy:  [99.8, 95.2, 88.4, 95.4]\n",
    "# Pre Task Accuracy:  [9.6, 25.0, 23.3, 49.1]\n",
    "# B Matrix:  [10.5, 11.3, 9.5, 8.3]\n",
    "# BWT:  -10.59999999999998\n",
    "# FWT:  16.85\n",
    "# Testing Time:  0.2773291269938151 (+/-) 0.1475932273756155\n",
    "# Training Time:  65.00602735280991 (+/-) 58.64067993244219"
   ]
  },
  {
   "cell_type": "code",
   "execution_count": null,
   "metadata": {},
   "outputs": [],
   "source": [
    "# import matplotlib.pyplot as plt\n",
    "\n",
    "# def plotPerformance2(Iter,accuracy,hiddenNode,hiddenLayer,nCluster):\n",
    "#     SMALL_SIZE = 10\n",
    "#     MEDIUM_SIZE = 12\n",
    "#     BIGGER_SIZE = 14\n",
    "\n",
    "#     plt.rc('font', size=8)                   # controls default text sizes\n",
    "#     plt.rc('axes', titlesize=BIGGER_SIZE)    # fontsize of the axes title\n",
    "#     plt.rc('axes', labelsize=MEDIUM_SIZE)    # fontsize of the x and y labels\n",
    "#     plt.rc('xtick', labelsize=SMALL_SIZE)    # fontsize of the tick labels\n",
    "#     plt.rc('ytick', labelsize=SMALL_SIZE)    # fontsize of the tick labels\n",
    "#     plt.rc('legend', fontsize=SMALL_SIZE)    # legend fontsize\n",
    "#     plt.rc('figure', titlesize=BIGGER_SIZE)  # fontsize of the figure title\n",
    "\n",
    "#     fig, axes = plt.subplots(4,1,figsize=(8, 12))\n",
    "# #     fig.tight_layout()\n",
    "\n",
    "#     ax1 = axes[0]\n",
    "#     ax2 = axes[1]\n",
    "#     ax3 = axes[2]\n",
    "#     ax4 = axes[3]\n",
    "    \n",
    "#     ax1.plot(Iter,accuracy,'k-')\n",
    "# #     ax1.set_title('Testing accuracy')\n",
    "#     ax1.set_ylabel('Áccuracy (%)')\n",
    "# #     ax1.set_xlabel('Number of bathces')\n",
    "#     ax1.yaxis.tick_right()\n",
    "#     ax1.autoscale_view('tight')\n",
    "#     ax1.set_ylim(ymin=0,ymax=100)\n",
    "#     ax1.set_xlim(xmin=0,xmax=len(Iter))\n",
    "\n",
    "#     ax2.plot(Iter[0:51],hiddenNode[0:51],'k--')\n",
    "#     ax2.plot(Iter[51:],hiddenNode[51:],'k-')\n",
    "# #     ax2.set_title('Testing loss')\n",
    "#     ax2.set_ylabel('Hidden node')\n",
    "# #     ax2.set_xlabel('Number of bathces')\n",
    "#     ax2.yaxis.tick_right()\n",
    "#     ax2.autoscale_view('tight')\n",
    "#     ax2.set_ylim(ymin=100,ymax=110)\n",
    "#     ax2.set_xlim(xmin=0,xmax=len(Iter))\n",
    "\n",
    "#     ax3.plot(Iter[0:51],hiddenLayer[0:51],'k--')\n",
    "#     ax3.plot(Iter[51:],hiddenLayer[51:],'k-')\n",
    "# #     ax3.set_title('Hidden node evolution')\n",
    "#     ax3.set_ylabel('Hidden layer')\n",
    "# #     ax3.set_xlabel('Number of bathces')\n",
    "#     ax3.yaxis.tick_right()\n",
    "#     ax3.autoscale_view('tight')\n",
    "#     ax3.set_ylim(ymin=0)\n",
    "#     ax3.set_xlim(xmin=0,xmax=len(Iter))\n",
    "\n",
    "#     ax4.plot(Iter[0:51],nCluster[0:51],'k--')\n",
    "#     ax4.plot(Iter[51:],nCluster[51:],'k-')\n",
    "# #     ax4.set_title('Hidden layer evolution')\n",
    "#     ax4.set_ylabel('Cluster')\n",
    "#     ax4.set_xlabel('Number of bathces')\n",
    "#     ax4.yaxis.tick_right()\n",
    "#     ax4.autoscale_view('tight')\n",
    "#     ax4.set_ylim(ymin=0)\n",
    "#     ax4.set_xlim(xmin=0,xmax=len(Iter))"
   ]
  },
  {
   "cell_type": "code",
   "execution_count": null,
   "metadata": {},
   "outputs": [],
   "source": [
    "# plotPerformance2(performanceHistory[0],performanceHistory[1],performanceHistory[3],performanceHistory[2],performanceHistory[4])"
   ]
  }
 ],
 "metadata": {
  "kernelspec": {
   "display_name": "Python 3",
   "language": "python",
   "name": "python3"
  },
  "language_info": {
   "codemirror_mode": {
    "name": "ipython",
    "version": 3
   },
   "file_extension": ".py",
   "mimetype": "text/x-python",
   "name": "python",
   "nbconvert_exporter": "python",
   "pygments_lexer": "ipython3",
   "version": "3.7.6"
  }
 },
 "nbformat": 4,
 "nbformat_minor": 4
}
